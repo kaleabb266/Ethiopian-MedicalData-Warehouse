{
 "cells": [
  {
   "cell_type": "code",
   "execution_count": 3,
   "metadata": {},
   "outputs": [],
   "source": [
    "import pandas as pd\n",
    "import sys\n",
    "import logging"
   ]
  },
  {
   "cell_type": "code",
   "execution_count": 4,
   "metadata": {},
   "outputs": [],
   "source": [
    "sys.path.append(\"../scripts\")\n",
    "from data_cleaning_transformation import *"
   ]
  },
  {
   "cell_type": "code",
   "execution_count": 5,
   "metadata": {},
   "outputs": [],
   "source": [
    "JSON_FILE = \"../data/scraped_data/all_channels_data.json\"\n",
    "CSV_FILE = \"../data/scraped_data/cleaned_data.csv\""
   ]
  },
  {
   "cell_type": "code",
   "execution_count": 6,
   "metadata": {},
   "outputs": [
    {
     "name": "stdout",
     "output_type": "stream",
     "text": [
      "Converting JSON to CSV...\n"
     ]
    }
   ],
   "source": [
    "print(\"Converting JSON to CSV...\")\n",
    "json_to_csv(JSON_FILE, CSV_FILE)"
   ]
  },
  {
   "cell_type": "code",
   "execution_count": 7,
   "metadata": {},
   "outputs": [
    {
     "name": "stdout",
     "output_type": "stream",
     "text": [
      "Removing duplicates...\n"
     ]
    }
   ],
   "source": [
    "# Step 2: Remove Duplicates\n",
    "print(\"Removing duplicates...\")\n",
    "remove_duplicates(CSV_FILE)"
   ]
  },
  {
   "cell_type": "code",
   "execution_count": 8,
   "metadata": {},
   "outputs": [
    {
     "name": "stdout",
     "output_type": "stream",
     "text": [
      "Handling missing values...\n"
     ]
    },
    {
     "name": "stderr",
     "output_type": "stream",
     "text": [
      "c:\\Users\\Kalea\\Desktop\\week12\\Ethiopian-MedicalData-Warehouse\\notebook\\../scripts\\data_cleaning_transformation.py:65: FutureWarning: A value is trying to be set on a copy of a DataFrame or Series through chained assignment using an inplace method.\n",
      "The behavior will change in pandas 3.0. This inplace method will never work because the intermediate object on which we are setting values always behaves as a copy.\n",
      "\n",
      "For example, when doing 'df[col].method(value, inplace=True)', try using 'df.method({col: value}, inplace=True)' or df[col] = df[col].method(value) instead, to perform the operation inplace on the original object.\n",
      "\n",
      "\n",
      "  df[\"date\"].fillna(pd.Timestamp.today(), inplace=True)\n"
     ]
    }
   ],
   "source": [
    "# Step 3: Handle Missing Values\n",
    "print(\"Handling missing values...\")\n",
    "handle_missing_values(CSV_FILE)"
   ]
  },
  {
   "cell_type": "code",
   "execution_count": 9,
   "metadata": {},
   "outputs": [
    {
     "name": "stdout",
     "output_type": "stream",
     "text": [
      "Standardizing data formats...\n"
     ]
    }
   ],
   "source": [
    "# Step 4: Standardize Data Formats\n",
    "print(\"Standardizing data formats...\")\n",
    "standardize_data_formats(CSV_FILE)"
   ]
  },
  {
   "cell_type": "code",
   "execution_count": 10,
   "metadata": {},
   "outputs": [
    {
     "name": "stdout",
     "output_type": "stream",
     "text": [
      "Loading cleaned data...\n"
     ]
    },
    {
     "data": {
      "application/vnd.microsoft.datawrangler.viewer.v0+json": {
       "columns": [
        {
         "name": "index",
         "rawType": "int64",
         "type": "integer"
        },
        {
         "name": "channel",
         "rawType": "object",
         "type": "string"
        },
        {
         "name": "message_id",
         "rawType": "int64",
         "type": "integer"
        },
        {
         "name": "date",
         "rawType": "object",
         "type": "string"
        },
        {
         "name": "sender_id",
         "rawType": "int64",
         "type": "integer"
        },
        {
         "name": "text",
         "rawType": "object",
         "type": "string"
        },
        {
         "name": "image",
         "rawType": "object",
         "type": "unknown"
        }
       ],
       "conversionMethod": "pd.DataFrame",
       "ref": "3130302d-e198-4b5e-beba-cbbdf6aab147",
       "rows": [
        [
         "0",
         "https://t.me/DoctorsET",
         "864",
         "2023-12-18T17:04:02",
         "-1001102021238",
         "https://youtu.be/5DBoEm-8kmA?si=LDLuEecNfULJVDzL   👈👈\n\nበቀን አንዴ ብቻ የሚባለው የቢዝነስ አማካሪ \n\nበ 10,000 ብር ብቻ የተጀመረ ቢዝነስ እስከ ሚሊየኖች ያየገው የፕራግማ ኢንቨስትመንት መስራች መርድ ብስራት \n\nብላክ ማርኬት ዋጋ ማነው ሚተምነው ?\n\nኢትዮጵያ ውስጥ ቢዝነስ ለመጀመር ጥሩ ሰአት ነው ወይ ??\n\n3 ቢዝነስ ስንጀምር የምንሰራው ስህተቶች !\n\nአሁኑኑ ይመልከተቱ  👇👇\n\nhttps://youtu.be/5DBoEm-8kmA?si=LDLuEecNfULJVDzL",
         null
        ],
        [
         "1",
         "https://t.me/DoctorsET",
         "863",
         "2023-11-03T16:14:39",
         "-1001102021238",
         "ዶክተርስ ኢትዮጵያ በ አዲስ አቀራረብ በ ቴሌቪዥን ፕሮግራሙን ለመጀመር ከፋተኛ ዝግጅት በማድረግ ላይ ይገኛል ።\n\nዩሃንስ ግርማ ጆኒ ( በ ቲክቶክ ከ 500,000) በላይ ተከታይ ያገኘው ከ አሜሪካ ወደ ኢትዮጵያ \nገንዳ ውስጥ ከመተኛት እስከ ከፋተኛ ተከፋይ በኢትዮጵያ ( 1 take production ) በመባል የሚታወቀው ዩሃንስ ግርማ ( ጆኒ) \n\nከዲፕሬሽን እስከ ታዋቂነትን ያተረፈው ጆኒ \n\nአሁኑኑ ይመልከቱ 👇\n\nhttps://youtu.be/gwVN5eJQpko?si=xARsSxIEdZtE91GY",
         null
        ],
        [
         "2",
         "https://t.me/DoctorsET",
         "862",
         "2023-10-02T16:37:39",
         "-1001102021238",
         "ሞት በስኳር \n\nለልጆቻችን የምናሲዘው ምሳቃ ሳናቀው እድሚያቸውን ይቀንሰው ይሆን \n\nየታሸገ ትክክለኛ ጁስ ኢትዮጵያ ውስጥ የለም...!\n\nሁሉም ወላጅ ሊያየው የሚገባ\n\nየታሸጉ ጁሶች መጠጣት እራስን ለከፍተኛ ጉዳት እስከ ሞት ድረስ ማጋለጥ ነው !\n\nለሁሉም ኢኮኖሚ ጤናንም የሚጠብቅ አመጋገብ የቱ ነው??\n\nhttps://youtu.be/oHiSRrNF7I0?si=Absgm414YSt_kjNq",
         null
        ],
        [
         "3",
         "https://t.me/DoctorsET",
         "861",
         "2023-09-16T07:54:32",
         "-1001102021238",
         "ከ HIV የተፈወሰ ሰው አጋጥሟችሁ ያቃል ? ፈውስ እና ህክምና ?\n\nሙሉ ቪዲዮውን ተመልክተው ሃሳብ አስተያየቶን ያካፍሉን 👇👇👇👇\n\nhttps://youtu.be/tTeErZxIh_Q?si=jKHyfWcC3sfXbC8L",
         null
        ],
        [
         "4",
         "https://t.me/DoctorsET",
         "860",
         "2023-09-01T16:16:15",
         "-1001102021238",
         "በቅርብ ጊዜ በሃገራችን ላይ እየተስተዋለ ያለ የተመሳሳይ ፆታ ( Homosexuality ) ግብረ ሰዶም በተለያዩ ቦታዎች ላይ እየታየ ይገኛል\n\nይህም አጥብቀን ምንቃወመው ጉዳይ ሲሆን \n\n- ይህ ችግር በህምና ይለያል ወይ ?\n- ቅድመ ምልክት አለው ወይ ?\n\nወላጆች ልጆቻችሁን እንዴት መጠበቅ ትችላለቹ ህክምናስ አለው ወይ ??\n\nበምንመገበው ምግብ ሊቀይሩየን ይችላሉ ወይ ? \n\nአሁኑኑ ገብተው ሙሉ ቪዲዮውን ይመልከቱ !\n\nhttps://youtu.be/0k65P5ouw7s?si=qaUgo75bUa3AMQxD",
         null
        ]
       ],
       "shape": {
        "columns": 6,
        "rows": 5
       }
      },
      "text/html": [
       "<div>\n",
       "<style scoped>\n",
       "    .dataframe tbody tr th:only-of-type {\n",
       "        vertical-align: middle;\n",
       "    }\n",
       "\n",
       "    .dataframe tbody tr th {\n",
       "        vertical-align: top;\n",
       "    }\n",
       "\n",
       "    .dataframe thead th {\n",
       "        text-align: right;\n",
       "    }\n",
       "</style>\n",
       "<table border=\"1\" class=\"dataframe\">\n",
       "  <thead>\n",
       "    <tr style=\"text-align: right;\">\n",
       "      <th></th>\n",
       "      <th>channel</th>\n",
       "      <th>message_id</th>\n",
       "      <th>date</th>\n",
       "      <th>sender_id</th>\n",
       "      <th>text</th>\n",
       "      <th>image</th>\n",
       "    </tr>\n",
       "  </thead>\n",
       "  <tbody>\n",
       "    <tr>\n",
       "      <th>0</th>\n",
       "      <td>https://t.me/DoctorsET</td>\n",
       "      <td>864</td>\n",
       "      <td>2023-12-18T17:04:02</td>\n",
       "      <td>-1001102021238</td>\n",
       "      <td>https://youtu.be/5DBoEm-8kmA?si=LDLuEecNfULJVD...</td>\n",
       "      <td>NaN</td>\n",
       "    </tr>\n",
       "    <tr>\n",
       "      <th>1</th>\n",
       "      <td>https://t.me/DoctorsET</td>\n",
       "      <td>863</td>\n",
       "      <td>2023-11-03T16:14:39</td>\n",
       "      <td>-1001102021238</td>\n",
       "      <td>ዶክተርስ ኢትዮጵያ በ አዲስ አቀራረብ በ ቴሌቪዥን ፕሮግራሙን ለመጀመር ከ...</td>\n",
       "      <td>NaN</td>\n",
       "    </tr>\n",
       "    <tr>\n",
       "      <th>2</th>\n",
       "      <td>https://t.me/DoctorsET</td>\n",
       "      <td>862</td>\n",
       "      <td>2023-10-02T16:37:39</td>\n",
       "      <td>-1001102021238</td>\n",
       "      <td>ሞት በስኳር \\n\\nለልጆቻችን የምናሲዘው ምሳቃ ሳናቀው እድሚያቸውን ይቀን...</td>\n",
       "      <td>NaN</td>\n",
       "    </tr>\n",
       "    <tr>\n",
       "      <th>3</th>\n",
       "      <td>https://t.me/DoctorsET</td>\n",
       "      <td>861</td>\n",
       "      <td>2023-09-16T07:54:32</td>\n",
       "      <td>-1001102021238</td>\n",
       "      <td>ከ HIV የተፈወሰ ሰው አጋጥሟችሁ ያቃል ? ፈውስ እና ህክምና ?\\n\\nሙ...</td>\n",
       "      <td>NaN</td>\n",
       "    </tr>\n",
       "    <tr>\n",
       "      <th>4</th>\n",
       "      <td>https://t.me/DoctorsET</td>\n",
       "      <td>860</td>\n",
       "      <td>2023-09-01T16:16:15</td>\n",
       "      <td>-1001102021238</td>\n",
       "      <td>በቅርብ ጊዜ በሃገራችን ላይ እየተስተዋለ ያለ የተመሳሳይ ፆታ ( Homos...</td>\n",
       "      <td>NaN</td>\n",
       "    </tr>\n",
       "  </tbody>\n",
       "</table>\n",
       "</div>"
      ],
      "text/plain": [
       "                  channel  message_id                 date      sender_id  \\\n",
       "0  https://t.me/DoctorsET         864  2023-12-18T17:04:02 -1001102021238   \n",
       "1  https://t.me/DoctorsET         863  2023-11-03T16:14:39 -1001102021238   \n",
       "2  https://t.me/DoctorsET         862  2023-10-02T16:37:39 -1001102021238   \n",
       "3  https://t.me/DoctorsET         861  2023-09-16T07:54:32 -1001102021238   \n",
       "4  https://t.me/DoctorsET         860  2023-09-01T16:16:15 -1001102021238   \n",
       "\n",
       "                                                text image  \n",
       "0  https://youtu.be/5DBoEm-8kmA?si=LDLuEecNfULJVD...   NaN  \n",
       "1  ዶክተርስ ኢትዮጵያ በ አዲስ አቀራረብ በ ቴሌቪዥን ፕሮግራሙን ለመጀመር ከ...   NaN  \n",
       "2  ሞት በስኳር \\n\\nለልጆቻችን የምናሲዘው ምሳቃ ሳናቀው እድሚያቸውን ይቀን...   NaN  \n",
       "3  ከ HIV የተፈወሰ ሰው አጋጥሟችሁ ያቃል ? ፈውስ እና ህክምና ?\\n\\nሙ...   NaN  \n",
       "4  በቅርብ ጊዜ በሃገራችን ላይ እየተስተዋለ ያለ የተመሳሳይ ፆታ ( Homos...   NaN  "
      ]
     },
     "execution_count": 10,
     "metadata": {},
     "output_type": "execute_result"
    }
   ],
   "source": [
    "\n",
    "# Load and Display Cleaned Data\n",
    "print(\"Loading cleaned data...\")\n",
    "df = pd.read_csv(CSV_FILE)\n",
    "df.head()"
   ]
  },
  {
   "cell_type": "code",
   "execution_count": null,
   "metadata": {},
   "outputs": [],
   "source": []
  }
 ],
 "metadata": {
  "kernelspec": {
   "display_name": "base",
   "language": "python",
   "name": "python3"
  },
  "language_info": {
   "codemirror_mode": {
    "name": "ipython",
    "version": 3
   },
   "file_extension": ".py",
   "mimetype": "text/x-python",
   "name": "python",
   "nbconvert_exporter": "python",
   "pygments_lexer": "ipython3",
   "version": "3.12.3"
  }
 },
 "nbformat": 4,
 "nbformat_minor": 2
}
